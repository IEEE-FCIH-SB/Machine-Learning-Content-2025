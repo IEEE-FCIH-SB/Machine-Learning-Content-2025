{
 "cells": [
  {
   "cell_type": "markdown",
   "metadata": {},
   "source": [
    "# Hello Again 🫡\n",
    "\n",
    "- let's get straight into it today's notebook is going to be about Calculus and how do we use it in ML💀\n",
    "- So get your cup of coffee and let's gooooo "
   ]
  },
  {
   "cell_type": "markdown",
   "metadata": {},
   "source": [
    "## So do u remember that MF with the Apple thing ? 💀\n",
    "## the one who discovered gravity and made us suffer in physics ? 🤨\n",
    "![alt text](<Untitled design (2).png>)\n",
    "\n",
    "# So yeah sir Isaac newton 🥸\n",
    "## he's the one who invented the science of Calculus "
   ]
  },
  {
   "cell_type": "markdown",
   "metadata": {},
   "source": [
    "## honourable mentions there's also this man \n",
    "<img src=\"Leibniz.webp\" alt=\"image\" width=\"560\" height=\"320\"/>\n",
    "\n",
    "## Leibniz he also invented calculus at the same time newton did but in Germany 🙋\n",
    "## But newton stole all the fame from him 😆"
   ]
  },
  {
   "cell_type": "markdown",
   "metadata": {},
   "source": [
    "### Okay let's start by the limits"
   ]
  },
  {
   "cell_type": "code",
   "execution_count": 1,
   "metadata": {},
   "outputs": [
    {
     "name": "stdout",
     "output_type": "stream",
     "text": [
      "Limit values as x approaches 0: [0.99833417 0.99998333 0.99999983 1.        ]\n"
     ]
    }
   ],
   "source": [
    "# Numerically compute the limit of sin(x)/x as x -> 0\n",
    "import numpy as np\n",
    "\n",
    "x_values = np.array([0.1, 0.01, 0.001, 0.0001])\n",
    "limit_values = np.sin(x_values) / x_values\n",
    "\n",
    "print(\"Limit values as x approaches 0:\", limit_values)"
   ]
  },
  {
   "cell_type": "markdown",
   "metadata": {},
   "source": [
    "## 2 - Numerical Differentiation"
   ]
  },
  {
   "cell_type": "code",
   "execution_count": 2,
   "metadata": {},
   "outputs": [
    {
     "name": "stdout",
     "output_type": "stream",
     "text": [
      "Forward Difference Approximation: 6.000100000012054\n",
      "Exact Derivative: 6\n"
     ]
    }
   ],
   "source": [
    "# Forward Difference Method\n",
    "def f(x):\n",
    "    return x**2\n",
    "\n",
    "x = 3\n",
    "h = 0.0001\n",
    "forward_diff = (f(x + h) - f(x)) / h\n",
    "print(f\"Forward Difference Approximation: {forward_diff}\")\n",
    "print(f\"Exact Derivative: {2*x}\")"
   ]
  },
  {
   "cell_type": "markdown",
   "metadata": {},
   "source": [
    "## So do u think we use numerical diff in ML ? \n",
    "### - Well we don't cause it's inefficient and suffers from issues like round-off errors ❌\n",
    "### - instead in simple problems we use Symbolic Differentiation ✅ "
   ]
  },
  {
   "cell_type": "code",
   "execution_count": 6,
   "metadata": {},
   "outputs": [
    {
     "name": "stdout",
     "output_type": "stream",
     "text": [
      "Symbolic Derivative: 2*x + 3\n",
      "Derivative at x = 2 : 7\n"
     ]
    }
   ],
   "source": [
    "import sympy as sp\n",
    "\n",
    "# Define the symbol and function\n",
    "x = sp.symbols('x')\n",
    "f = x**2 + 3*x + 2\n",
    "\n",
    "# Compute the derivative\n",
    "derivative = sp.diff(f, x)\n",
    "print(f\"Symbolic Derivative: {derivative}\")\n",
    "\n",
    "# Substitute x = 2\n",
    "value_at_2 = derivative.subs(x, 2)\n",
    "print(f\"Derivative at x = 2 : {value_at_2}\")\n"
   ]
  },
  {
   "cell_type": "markdown",
   "metadata": {},
   "source": [
    "# Auto Diff usning TensorFlow 🐍🤖\n",
    "### More efficient for complex problems like deep learning problems "
   ]
  },
  {
   "cell_type": "code",
   "execution_count": null,
   "metadata": {},
   "outputs": [
    {
     "name": "stdout",
     "output_type": "stream",
     "text": [
      "Automatic Derivative: 7.0\n"
     ]
    }
   ],
   "source": [
    "import tensorflow as tf\n",
    "\n",
    "# Define a TensorFlow variable\n",
    "x = tf.Variable(2.0)\n",
    "\n",
    "# Use TensorFlow's GradientTape for automatic differentiation\n",
    "with tf.GradientTape() as tape:\n",
    "    # Define the function y = x^2\n",
    "    y = x**2 + 3*x + 2\n",
    "\n",
    "# Compute the derivative dy/dx\n",
    "dy_dx = tape.gradient(y, x)\n",
    "\n",
    "print(f\"Automatic Derivative: {dy_dx.numpy()}\")"
   ]
  },
  {
   "cell_type": "markdown",
   "metadata": {},
   "source": [
    "# Thank u 🫡"
   ]
  }
 ],
 "metadata": {
  "kernelspec": {
   "display_name": "TensorFlow",
   "language": "python",
   "name": "python3"
  },
  "language_info": {
   "codemirror_mode": {
    "name": "ipython",
    "version": 3
   },
   "file_extension": ".py",
   "mimetype": "text/x-python",
   "name": "python",
   "nbconvert_exporter": "python",
   "pygments_lexer": "ipython3",
   "version": "3.8.18"
  }
 },
 "nbformat": 4,
 "nbformat_minor": 2
}
