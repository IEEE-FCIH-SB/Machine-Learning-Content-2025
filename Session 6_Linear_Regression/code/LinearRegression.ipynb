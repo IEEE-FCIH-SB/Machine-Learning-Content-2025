{
 "cells": [
  {
   "cell_type": "markdown",
   "metadata": {},
   "source": [
    "# Well Hello Hello, Welcome back again 🫡\n",
    "\n",
    "### so we in today's lecture we're going to talk about : \n",
    "- Linear Regression\n",
    "- Polynomial Regression\n"
   ]
  },
  {
   "cell_type": "markdown",
   "metadata": {},
   "source": [
    "## So just before we dive into Linear regression let's discuss some of the encoding and scaling techniques !"
   ]
  },
  {
   "cell_type": "markdown",
   "metadata": {},
   "source": [
    "# One-Hot Encoding Refresher 🧠🔥\n",
    "\n",
    "## What is it? ❓\n",
    "One-hot encoding is a technique to convert **categorical variables** into a **binary vector** representation. Each category becomes a new binary feature (column), with `1` indicating the presence and `0` otherwise.\n",
    "\n",
    "## Why use it? 💡\n",
    "- Machine learning models typically require numerical input.\n",
    "- Prevents models from interpreting categories as ordinal (e.g., assigning unintended order like \"red\" > \"blue\").\n",
    "\n",
    "## Example 🌟\n",
    "**Original Data (Category: \"Color\"):**\n",
    "| Color  |\n",
    "|--------|\n",
    "| Red    |\n",
    "| Blue   |\n",
    "| Green  |\n",
    "\n",
    "**After One-Hot Encoding:**\n",
    "| Color_Red | Color_Blue | Color_Green |\n",
    "|-----------|------------|-------------|\n",
    "| 1         | 0          | 0           |\n",
    "| 0         | 1          | 0           |\n",
    "| 0         | 0          | 1           |\n",
    "\n",
    "\n",
    "\n",
    "-----------------------------------------------\n",
    "\n",
    "-----------------------------------------------"
   ]
  },
  {
   "cell_type": "markdown",
   "metadata": {},
   "source": [
    "# Power Transformers & Skewed Data 🔌📊  \n",
    "\n",
    "## What Are Power Transformers? ❓  \n",
    "Power transformers reshape data to be more **Gaussian-like**, reducing skewness and improving model performance. They apply **non-linear transformations** to stabilize variance and normalize distributions.  \n",
    "\n",
    "## Common Power Transformers ⚡  \n",
    "1. **Box-Cox Transform** – Parametric, optimized for **positive data only**.  \n",
    "2. **Yeo-Johnson** – Flexible, works on **all real numbers** (positive/negative).   \n",
    "\n",
    "## Why Use Them? 💡  \n",
    "- Fixes **right/left skew** for better statistical modeling.  \n",
    "- Helps algorithms (e.g., linear regression, SVM) that assume normality.  \n",
    "- Reduces impact of outliers.  \n",
    "\n",
    "## Example (Box-Cox Transform) 🌟  \n",
    "**Before (Skewed Data):**  \n",
    "| Income  |  \n",
    "|---------|  \n",
    "| 30,000  |  \n",
    "| 45,000  |  \n",
    "| 250,000 |  \n",
    "\n",
    "**After Box-Cox :**  \n",
    "| Income_Transformed |  \n",
    "|--------------------|  \n",
    "| 3.11               |  \n",
    "| 3.25               |  \n",
    "| 4.02               |  "
   ]
  },
  {
   "cell_type": "markdown",
   "metadata": {},
   "source": [
    "# Standard Scaler 📏✨\n",
    "\n",
    "## What is Standardization? ❓\n",
    "Standardization (Z-score normalization) transforms data to have:\n",
    "- **Mean (μ) = 0**\n",
    "- **Standard Deviation (σ) = 1**\n",
    "\n",
    "Formula:  \n",
    "`z = (x - μ) / σ`\n",
    "\n",
    "## Why Use Standard Scaler? 💡\n",
    "- Essential for distance-based algorithms (KNN, SVM, K-Means)\n",
    "- Helps gradient descent converge faster\n",
    "- Puts all features on the same scale\n",
    "- Less affected by outliers than MinMax scaler\n",
    "\n",
    "## Example 🌟\n",
    "**Before Scaling:**\n",
    "| Age | Income (k$) |\n",
    "|-----|------------|\n",
    "| 25  | 50         |\n",
    "| 30  | 80         |\n",
    "| 40  | 120        |\n",
    "\n",
    "**After StandardScaler:**\n",
    "| Age_z | Income_z |\n",
    "|-------|---------|\n",
    "| -1.22 | -1.22   |\n",
    "| -0.24 | -0.24   |\n",
    "| 1.46  | 1.46    |\n",
    "\n",
    "## Key Notes ✅\n",
    "- Use `sklearn.preprocessing.StandardScaler`\n",
    "- Fit ONLY on training data (avoid data leakage)\n",
    "- Works best when data is ~normally distributed\n",
    "- Preserves outliers (unlike MinMax scaler)"
   ]
  },
  {
   "cell_type": "code",
   "execution_count": 5,
   "metadata": {},
   "outputs": [
    {
     "data": {
      "application/vnd.microsoft.datawrangler.viewer.v0+json": {
       "columns": [
        {
         "name": "index",
         "rawType": "int64",
         "type": "integer"
        },
        {
         "name": "Original",
         "rawType": "float64",
         "type": "float"
        },
        {
         "name": "Scaled",
         "rawType": "float64",
         "type": "float"
        }
       ],
       "conversionMethod": "pd.DataFrame",
       "ref": "04acacbc-4c48-4c49-ab91-8ae1e2ba1872",
       "rows": [
        [
         "0",
         "10.0",
         "-1.414213562373095"
        ],
        [
         "1",
         "20.0",
         "-0.7071067811865475"
        ],
        [
         "2",
         "30.0",
         "0.0"
        ],
        [
         "3",
         "40.0",
         "0.7071067811865475"
        ],
        [
         "4",
         "50.0",
         "1.414213562373095"
        ]
       ],
       "shape": {
        "columns": 2,
        "rows": 5
       }
      },
      "text/html": [
       "<div>\n",
       "<style scoped>\n",
       "    .dataframe tbody tr th:only-of-type {\n",
       "        vertical-align: middle;\n",
       "    }\n",
       "\n",
       "    .dataframe tbody tr th {\n",
       "        vertical-align: top;\n",
       "    }\n",
       "\n",
       "    .dataframe thead th {\n",
       "        text-align: right;\n",
       "    }\n",
       "</style>\n",
       "<table border=\"1\" class=\"dataframe\">\n",
       "  <thead>\n",
       "    <tr style=\"text-align: right;\">\n",
       "      <th></th>\n",
       "      <th>Original</th>\n",
       "      <th>Scaled</th>\n",
       "    </tr>\n",
       "  </thead>\n",
       "  <tbody>\n",
       "    <tr>\n",
       "      <th>0</th>\n",
       "      <td>10.0</td>\n",
       "      <td>-1.414214</td>\n",
       "    </tr>\n",
       "    <tr>\n",
       "      <th>1</th>\n",
       "      <td>20.0</td>\n",
       "      <td>-0.707107</td>\n",
       "    </tr>\n",
       "    <tr>\n",
       "      <th>2</th>\n",
       "      <td>30.0</td>\n",
       "      <td>0.000000</td>\n",
       "    </tr>\n",
       "    <tr>\n",
       "      <th>3</th>\n",
       "      <td>40.0</td>\n",
       "      <td>0.707107</td>\n",
       "    </tr>\n",
       "    <tr>\n",
       "      <th>4</th>\n",
       "      <td>50.0</td>\n",
       "      <td>1.414214</td>\n",
       "    </tr>\n",
       "  </tbody>\n",
       "</table>\n",
       "</div>"
      ],
      "text/plain": [
       "   Original    Scaled\n",
       "0      10.0 -1.414214\n",
       "1      20.0 -0.707107\n",
       "2      30.0  0.000000\n",
       "3      40.0  0.707107\n",
       "4      50.0  1.414214"
      ]
     },
     "metadata": {},
     "output_type": "display_data"
    }
   ],
   "source": [
    "import numpy as np\n",
    "from sklearn.preprocessing import StandardScaler\n",
    "import pandas as pd\n",
    "\n",
    "\n",
    "data = np.array([[10], [20], [30], [40], [50]], dtype=float)\n",
    "\n",
    "\n",
    "# Apply StandardScaler\n",
    "scaler = StandardScaler()\n",
    "scaled_data = scaler.fit_transform(data)\n",
    "\n",
    "\n",
    "df = pd.DataFrame({\n",
    "    'Original': data.squeeze(),\n",
    "    'Scaled': scaled_data.squeeze()\n",
    "})\n",
    "\n",
    "\n",
    "display(df)\n"
   ]
  },
  {
   "cell_type": "markdown",
   "metadata": {},
   "source": [
    "## Task 1 🚨 Check also MinMax scaler and what's the difference between it and StandardScaler ?"
   ]
  },
  {
   "cell_type": "markdown",
   "metadata": {},
   "source": [
    "# Ordinal Encoder ⬆️🔢 (For Ordered Categories Only!)\n",
    "\n",
    "## What is Ordinal Encoding? ❓\n",
    "Assigns numerical values to categories **while preserving their inherent order**. Unlike LabelEncoder, this is explicitly for ordinal data where:\n",
    "- \"Small\" < \"Medium\" < \"Large\"\n",
    "- \"Low\" < \"Medium\" < \"High\"\n",
    "\n",
    "## When to Use It? 💡\n",
    "- ONLY when categories have meaningful order\n",
    "- Perfect for:\n",
    "  - Survey responses (1-5 scales)\n",
    "  - Education levels\n",
    "  - Size categories\n",
    "  - Any ranked data\n",
    "\n",
    "## Example (T-Shirt Sizes) 🌟\n",
    "**Before Encoding:**\n",
    "| Size   |\n",
    "|--------|\n",
    "| Small  |\n",
    "| Medium |\n",
    "| Large  |\n",
    "| Small  |\n",
    "\n",
    "**After Encoding (Manual Mapping):**\n",
    "| Size_Encoded |\n",
    "|-------------|\n",
    "| 0           |\n",
    "| 1           |\n",
    "| 2           |\n",
    "| 0           |\n",
    "\n",
    "## Key Differences from LabelEncoder ✅\n",
    "1. **Explicit Ordering** (you define the mapping)\n",
    "2. **No False Assumptions** (unlike automatic label encoding)\n",
    "3. **Use `sklearn.preprocessing.OrdinalEncoder`**"
   ]
  },
  {
   "cell_type": "code",
   "execution_count": 24,
   "metadata": {},
   "outputs": [
    {
     "data": {
      "application/vnd.microsoft.datawrangler.viewer.v0+json": {
       "columns": [
        {
         "name": "index",
         "rawType": "int64",
         "type": "integer"
        },
        {
         "name": "Category",
         "rawType": "object",
         "type": "string"
        },
        {
         "name": "Encoded",
         "rawType": "float64",
         "type": "float"
        }
       ],
       "conversionMethod": "pd.DataFrame",
       "ref": "457e5e3d-1a35-49a6-a2c3-5644d5c6e147",
       "rows": [
        [
         "0",
         "low",
         "0.0"
        ],
        [
         "1",
         "medium",
         "1.0"
        ],
        [
         "2",
         "high",
         "2.0"
        ],
        [
         "3",
         "medium",
         "1.0"
        ],
        [
         "4",
         "low",
         "0.0"
        ]
       ],
       "shape": {
        "columns": 2,
        "rows": 5
       }
      },
      "text/html": [
       "<div>\n",
       "<style scoped>\n",
       "    .dataframe tbody tr th:only-of-type {\n",
       "        vertical-align: middle;\n",
       "    }\n",
       "\n",
       "    .dataframe tbody tr th {\n",
       "        vertical-align: top;\n",
       "    }\n",
       "\n",
       "    .dataframe thead th {\n",
       "        text-align: right;\n",
       "    }\n",
       "</style>\n",
       "<table border=\"1\" class=\"dataframe\">\n",
       "  <thead>\n",
       "    <tr style=\"text-align: right;\">\n",
       "      <th></th>\n",
       "      <th>Category</th>\n",
       "      <th>Encoded</th>\n",
       "    </tr>\n",
       "  </thead>\n",
       "  <tbody>\n",
       "    <tr>\n",
       "      <th>0</th>\n",
       "      <td>low</td>\n",
       "      <td>0.0</td>\n",
       "    </tr>\n",
       "    <tr>\n",
       "      <th>1</th>\n",
       "      <td>medium</td>\n",
       "      <td>1.0</td>\n",
       "    </tr>\n",
       "    <tr>\n",
       "      <th>2</th>\n",
       "      <td>high</td>\n",
       "      <td>2.0</td>\n",
       "    </tr>\n",
       "    <tr>\n",
       "      <th>3</th>\n",
       "      <td>medium</td>\n",
       "      <td>1.0</td>\n",
       "    </tr>\n",
       "    <tr>\n",
       "      <th>4</th>\n",
       "      <td>low</td>\n",
       "      <td>0.0</td>\n",
       "    </tr>\n",
       "  </tbody>\n",
       "</table>\n",
       "</div>"
      ],
      "text/plain": [
       "  Category  Encoded\n",
       "0      low      0.0\n",
       "1   medium      1.0\n",
       "2     high      2.0\n",
       "3   medium      1.0\n",
       "4      low      0.0"
      ]
     },
     "metadata": {},
     "output_type": "display_data"
    }
   ],
   "source": [
    "from sklearn.preprocessing import OrdinalEncoder\n",
    "import pandas as pd\n",
    "\n",
    "# Categorical data in a DataFrame (string column)\n",
    "df = pd.DataFrame({\n",
    "    'Category': ['low', 'medium', 'high', 'medium', 'low']\n",
    "})\n",
    "\n",
    "# Define encoder with custom order\n",
    "encoder = OrdinalEncoder(categories=[['low', 'medium', 'high']])\n",
    "encoded = encoder.fit_transform(df[['Category']])  # <- keep as DataFrame\n",
    "\n",
    "# Add the result to DataFrame\n",
    "df['Encoded'] = encoded\n",
    "\n",
    "display(df)\n",
    "\n"
   ]
  },
  {
   "cell_type": "code",
   "execution_count": 25,
   "metadata": {},
   "outputs": [
    {
     "data": {
      "text/plain": [
       "0    0\n",
       "1    1\n",
       "2    2\n",
       "3    1\n",
       "4    0\n",
       "Name: Category, dtype: int64"
      ]
     },
     "metadata": {},
     "output_type": "display_data"
    }
   ],
   "source": [
    "# Alternative u can encode yourself\n",
    "\n",
    "df['Category'].replace({'low':0 , \"medium\" : 1 , \"high\" : 2} , inplace=True)\n",
    "\n",
    "display(df['Category'])"
   ]
  },
  {
   "cell_type": "markdown",
   "metadata": {},
   "source": [
    "## Good old Linear Regression ⚙️"
   ]
  },
  {
   "cell_type": "markdown",
   "metadata": {},
   "source": [
    "## in this notebook we are going to focus more on the practical part not the theory"
   ]
  },
  {
   "cell_type": "code",
   "execution_count": null,
   "metadata": {},
   "outputs": [],
   "source": [
    "import numpy as np\n",
    "import matplotlib.pyplot as plt\n",
    "from sklearn.linear_model import LinearRegression\n",
    "\n",
    "# Generate synthetic linear data\n",
    "np.random.seed(42)\n",
    "X = 2 * np.random.rand(100, 1)\n",
    "y = 4 + 3 * X + np.random.randn(100, 1)  # True intercept=4, slope=3\n",
    "\n",
    "# Train linear regression\n",
    "model = LinearRegression()\n",
    "model.fit(X, y)\n",
    "\n",
    "# # Predictions\n",
    "y_pred = model.predict(X)\n"
   ]
  },
  {
   "cell_type": "code",
   "execution_count": 34,
   "metadata": {},
   "outputs": [
    {
     "data": {
      "image/png": "[encoded data removed]",
      "text/plain": [
       "<Figure size 640x480 with 1 Axes>"
      ]
     },
     "metadata": {},
     "output_type": "display_data"
    }
   ],
   "source": [
    "# Visualization\n",
    "plt.scatter(X, y, color='blue', label='Data')\n",
    "plt.plot(X, y_pred, color='red', linewidth=2, label='Prediction Line')\n",
    "plt.xlabel(\"X\")\n",
    "plt.ylabel(\"y\")\n",
    "plt.title(\"Linear Regression Fit\")\n",
    "plt.legend()\n",
    "plt.grid(True)\n",
    "plt.show()"
   ]
  },
  {
   "cell_type": "markdown",
   "metadata": {},
   "source": [
    "## Usually u want to test your model performance after training !\n",
    "\n",
    "### Every task has it's own metrics to test the model \n",
    "- For regression we use the R2 Score !"
   ]
  },
  {
   "cell_type": "markdown",
   "metadata": {},
   "source": [
    "## 📘 Definition of R² Score (Coefficient of Determination)\n",
    "\"R² measures how well the model explains the variability of the target variable.\"\n",
    "\n",
    "In simpler terms:\n",
    "\n",
    "It tells you how much of the variation in y is explained by your model's predictions.\n",
    "\n",
    "🔍 Interpretation:\n",
    "R² Value\tMeaning\n",
    "1.0\tPerfect prediction — model explains all variance\n",
    "0.0\tModel explains nothing — same as predicting mean\n",
    "< 0 (negative)\tModel is worse than predicting the mean (very bad 😬)\n",
    "0.7 - 0.99\tPretty good for most real-world data\n",
    "\n",
    "\n",
    "\n",
    "-----------------------------------------\n",
    "\n",
    "## this isn't the end there's also MSE or MAE and adjusted R2 score which is a variation for the R2 score \n",
    "\n",
    "### MSE or MAE are cost functions which the model tries to minimize during training\n"
   ]
  },
  {
   "cell_type": "code",
   "execution_count": 36,
   "metadata": {},
   "outputs": [
    {
     "name": "stdout",
     "output_type": "stream",
     "text": [
      "Intercept (w0): 4.22\n",
      "Slope (w1): 2.77\n",
      "R2 score AKA model performance : 0.7692735413614223\n",
      "Cost function : 0.8065845639670534\n"
     ]
    }
   ],
   "source": [
    "from sklearn.metrics import r2_score , mean_squared_error\n",
    "\n",
    "# Print learned parameters\n",
    "print(f\"Intercept (w0): {model.intercept_[0]:.2f}\")\n",
    "print(f\"Slope (w1): {model.coef_[0][0]:.2f}\")\n",
    "print(f\"R2 score AKA model performance : {r2_score(y , y_pred)}\")\n",
    "print(f\"Cost function : {mean_squared_error(y , y_pred)}\")"
   ]
  },
  {
   "cell_type": "markdown",
   "metadata": {},
   "source": [
    "## but wait a minute the equation in the linear regression : \n",
    "\n",
    "# Linear Regression Formula 📈\n",
    "\n",
    "The simple linear regression model:\n",
    "\n",
    "$$\n",
    "y = \\beta_0 + \\beta_1x \n",
    "$$\n",
    "\n",
    "Where:\n",
    "- $y$: Dependent variable (target)\n",
    "- $x$: Independent variable (feature)\n",
    "- $\\beta_0$: y-intercept (constant term)\n",
    "- $\\beta_1$: Slope coefficient\n",
    "\n",
    "\n",
    "### it depends that there's a linear relationship (1st degree) between the target and the features !"
   ]
  },
  {
   "cell_type": "markdown",
   "metadata": {},
   "source": [
    "## Then what are we going to do if there's a relationship between them but it's from another degree ? \n",
    "\n",
    "### then our friend here Linear regression isn't useful in this case \n",
    "\n",
    "### We can transform our features a little bit to adjust this issue !"
   ]
  },
  {
   "cell_type": "markdown",
   "metadata": {},
   "source": [
    "# Polynomial Regression Formula 🧮\n",
    "\n",
    "The general form of a polynomial regression model:\n",
    "\n",
    "$$\n",
    "y = \\beta_0 + \\beta_1x + \\beta_2x^2 + \\beta_3x^3 + \\cdots + \\beta_nx^n \n",
    "$$\n",
    "\n",
    "Where:\n",
    "- $y$: Dependent variable (target)\n",
    "- $x$: Independent variable (feature)\n",
    "- $\\beta_0$: y-intercept (bias term)\n",
    "- $\\beta_1, \\beta_2, ..., \\beta_n$: Coefficients for each polynomial term\n",
    "- $n$: Degree of the polynomial\n",
    "\n",
    "> **Note:** The equation shows how we can model non-linear relationships while still using linear regression techniques by expanding features into polynomial terms."
   ]
  },
  {
   "cell_type": "code",
   "execution_count": null,
   "metadata": {},
   "outputs": [
    {
     "data": {
      "image/png": "[encoded data removed]",
      "text/plain": [
       "<Figure size 640x480 with 1 Axes>"
      ]
     },
     "metadata": {},
     "output_type": "display_data"
    }
   ],
   "source": [
    "from sklearn.preprocessing import PolynomialFeatures\n",
    "from sklearn.model_selection import train_test_split\n",
    "\n",
    "# Sample data (You can change this)\n",
    "X = np.array([[1], [2], [3], [4], [5] , [6] , [7] , [8]])\n",
    "y = np.array([1, 4, 9, 16, 25 , 36 , 49 , 50])\n",
    "\n",
    "# Splitting the data\n",
    "X_train, X_test, y_train, y_test = train_test_split(X, y, test_size=0.2, random_state=42)\n",
    "\n",
    "# Transforming the features to include polynomial terms\n",
    "poly = PolynomialFeatures(degree=2)  # Try different degrees\n",
    "X_poly_train = poly.fit_transform(X_train) # only fit on the training data to avoid Data leakage\n",
    "X_poly_test = poly.transform(X_test)\n",
    "\n",
    "# Fitting Linear Regression to the polynomial data\n",
    "lin_reg = LinearRegression()\n",
    "lin_reg.fit(X_poly_train, y_train)\n",
    "\n",
    "# Predicting the results\n",
    "y_pred_poly = lin_reg.predict(X_poly_test)\n",
    "\n",
    "# Plotting the results\n",
    "plt.scatter(X, y, color='blue')  # Original data\n",
    "plt.plot(X, lin_reg.predict(poly.transform(X)), color='red')  # Polynomial regression curve\n",
    "plt.show()\n"
   ]
  },
  {
   "cell_type": "code",
   "execution_count": 45,
   "metadata": {},
   "outputs": [
    {
     "name": "stdout",
     "output_type": "stream",
     "text": [
      "R^2 Score: 0.9889007026627219\n",
      "Cost function : 2.841420118343205\n"
     ]
    }
   ],
   "source": [
    "# Checking performance\n",
    "print(\"R^2 Score:\", lin_reg.score(X_poly_test, y_test))\n",
    "print(f\"Cost function : {mean_squared_error(y_test , y_pred_poly)}\")"
   ]
  },
  {
   "cell_type": "markdown",
   "metadata": {},
   "source": [
    "# Resources 🥸\n",
    "\n",
    "- [Scikit-learn Docs ](https://scikit-learn.org/stable/user_guide.html)\n",
    "- [Cheat-Sheet](https://media.datacamp.com/legacy/image/upload/v1676302389/Marketing/Blog/Scikit-Learn_Cheat_Sheet.pdf)"
   ]
  }
 ],
 "metadata": {
  "kernelspec": {
   "display_name": "testEnv",
   "language": "python",
   "name": "python3"
  },
  "language_info": {
   "codemirror_mode": {
    "name": "ipython",
    "version": 3
   },
   "file_extension": ".py",
   "mimetype": "text/x-python",
   "name": "python",
   "nbconvert_exporter": "python",
   "pygments_lexer": "ipython3",
   "version": "3.11.4"
  }
 },
 "nbformat": 4,
 "nbformat_minor": 2
}
