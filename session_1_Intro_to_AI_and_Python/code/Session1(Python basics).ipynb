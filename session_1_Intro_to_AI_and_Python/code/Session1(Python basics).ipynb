{
 "cells": [
  {
   "cell_type": "markdown",
   "metadata": {},
   "source": [
    "# 🚀 Hey there! Welcome to the World of Jupyter Notebooks! \n",
    "\n",
    "### ❓ \"You might ask yourself, WTF is this?\" \n",
    "### 💻 \"Where's my editor? Where's VS Code and the normal Python?!\" \n",
    "\n",
    "---\n",
    "\n",
    "**Don't panic!** 🌴 *This is your new best friend for Machine Learning projects!*  \n",
    "\n",
    "What you're seeing is called a **Jupyter Notebook** - we use it in ML/DL because:\n",
    "- 🧩 **Modular coding**: Break code into executable cells\n",
    "- ⚡ **Selective execution**: Re-run specific parts without restarting everything\n",
    "- 📊 **Instant visualization**: See plots/tables right below your code\n",
    "- 📝 **Rich documentation**: Mix code, text, and media like this!\n",
    "\n",
    "---\n",
    "\n",
    "### 🛠️ Pro Tip:  \n",
    "```python\n",
    "# You can even add code examples in markdown like this!\n",
    "print(\"Combine explanations with code snippets\")"
   ]
  },
  {
   "cell_type": "markdown",
   "metadata": {},
   "source": [
    "# Anyway, Enough Yapping! Let's Start Grinding!"
   ]
  },
  {
   "cell_type": "markdown",
   "metadata": {},
   "source": [
    "## Output in the terminal !"
   ]
  },
  {
   "cell_type": "code",
   "execution_count": 1,
   "metadata": {},
   "outputs": [
    {
     "name": "stdout",
     "output_type": "stream",
     "text": [
      "IEEE ML-Committee\n"
     ]
    }
   ],
   "source": [
    "print(\"IEEE ML-Committee\")"
   ]
  },
  {
   "cell_type": "markdown",
   "metadata": {},
   "source": [
    "# Variables"
   ]
  },
  {
   "cell_type": "code",
   "execution_count": 19,
   "metadata": {},
   "outputs": [
    {
     "name": "stdout",
     "output_type": "stream",
     "text": [
      "1 IEEE\n",
      "<class 'int'>\n",
      "<class 'str'>\n",
      "<class 'float'>\n",
      "<class 'bool'>\n"
     ]
    }
   ],
   "source": [
    "# Since python is untyped language so we don't specify the data types for the variables here 🐍\n",
    "\n",
    "x = 1\n",
    "y = \"IEEE\"\n",
    "z = 'c'\n",
    "m = 0.3\n",
    "n = True\n",
    "\n",
    "# you can print to vars with one print statement \n",
    "print(x , y)\n",
    "\n",
    "\n",
    "\n",
    "# Not sure about the type of the var u have ? \n",
    "# use the type() method \n",
    "\n",
    "print(type(x))\n",
    "print(type(y))\n",
    "print(type(m))\n",
    "print(type(n))"
   ]
  },
  {
   "cell_type": "markdown",
   "metadata": {},
   "source": [
    "## Formatting a string !"
   ]
  },
  {
   "cell_type": "code",
   "execution_count": 6,
   "metadata": {},
   "outputs": [
    {
     "name": "stdout",
     "output_type": "stream",
     "text": [
      "Hello , Ziad\n",
      "Hello , Ziad\n",
      "Hello , Ziad\n"
     ]
    }
   ],
   "source": [
    "# let's take an input from the user by using the input method\n",
    "\n",
    "name = input(\"Enter your name please : \")\n",
    "\n",
    "x = f\"Hello , {name}\"\n",
    "\n",
    "print(x)\n",
    "\n",
    "\n",
    "# or directly like this \n",
    "\n",
    "print(f\"Hello , {name}\")\n",
    "\n",
    "# or u can do it like this ! \n",
    "\n",
    "print(\"Hello , \" + name)"
   ]
  },
  {
   "cell_type": "markdown",
   "metadata": {},
   "source": [
    "## Raw Strings "
   ]
  },
  {
   "cell_type": "code",
   "execution_count": 16,
   "metadata": {},
   "outputs": [
    {
     "name": "stdout",
     "output_type": "stream",
     "text": [
      "ABC\\D\n",
      "ABC\tD\n",
      "ABC\\\\D\n",
      "ABC\\tD\n"
     ]
    }
   ],
   "source": [
    "# as u know we have some escape characters like : ('\\' , '\\n' , '\\t' , .... etc)\n",
    "# so what do we do if we want to print this exact characters in a print statment ? \n",
    "\n",
    "# like if we tried this : \n",
    "print(\"ABC\\\\D\") # see only 1 \\ was printed out even though I made 2 \n",
    "\n",
    "print(\"ABC\\tD\")\n",
    "\n",
    "\n",
    "# Not lets use it as a Raw String !\n",
    "\n",
    "print(r\"ABC\\\\D\")\n",
    "\n",
    "# do u See the difference ? \n",
    "\n",
    "print(r\"ABC\\tD\")"
   ]
  },
  {
   "cell_type": "markdown",
   "metadata": {},
   "source": [
    "## Numerical Input ? "
   ]
  },
  {
   "cell_type": "code",
   "execution_count": 21,
   "metadata": {},
   "outputs": [
    {
     "name": "stdout",
     "output_type": "stream",
     "text": [
      "<class 'int'>\n"
     ]
    }
   ],
   "source": [
    "# just wrap the input method with this function int()\n",
    "\n",
    "x = int(input(\"Enter a numebr : \"))\n",
    "\n",
    "print(type(x))"
   ]
  },
  {
   "cell_type": "markdown",
   "metadata": {},
   "source": [
    "# Python Data Types\n",
    "\n",
    "Python has several built-in data types. Here's a quick overview:\n",
    "\n",
    "| **Category**       | **Data Types**                     |\n",
    "|--------------------|------------------------------------|\n",
    "| **Text Type**       | `str`                              |\n",
    "| **Numeric Types**   | `int`, `float`, `complex`          |\n",
    "| **Sequence Types**  | `list`, `tuple`, `range`           |\n",
    "| **Mapping Type**    | `dict`                             |\n",
    "| **Set Types**       | `set`                              |\n",
    "| **Boolean Type**    | `bool`                             |\n",
    "| **Binary Types**    | `bytes`                            |\n",
    "| **None Type**       | `NoneType`                         |\n",
    "\n",
    "---\n",
    "\n",
    "### **Key Notes**:\n",
    "- Use `type()` to check the data type of a variable.\n",
    "- Python is dynamically typed, so you don't need to declare types explicitly."
   ]
  },
  {
   "cell_type": "markdown",
   "metadata": {},
   "source": [
    "## Control Flow\n",
    "## Conditional Statements in Python 🐍"
   ]
  },
  {
   "cell_type": "code",
   "execution_count": 46,
   "metadata": {},
   "outputs": [
    {
     "name": "stdout",
     "output_type": "stream",
     "text": [
      "You are allowed to enter.\n"
     ]
    }
   ],
   "source": [
    "age = 20\n",
    "has_id = True\n",
    "\n",
    "if age >= 18 and has_id: # both conditions have to be true to excute the code in the body\n",
    "    print(\"You are allowed to enter.\")\n",
    "elif age >= 18 and not has_id:\n",
    "    print(\"You need to bring an ID.\")\n",
    "elif age < 18 and has_id:\n",
    "    print(\"You are too young, even with an ID.\")\n",
    "else:\n",
    "    print(\"You are not allowed to enter.\")"
   ]
  },
  {
   "cell_type": "markdown",
   "metadata": {},
   "source": [
    "# *Loops* 🔁"
   ]
  },
  {
   "cell_type": "code",
   "execution_count": 53,
   "metadata": {},
   "outputs": [
    {
     "name": "stdout",
     "output_type": "stream",
     "text": [
      "0\n",
      "1\n",
      "2\n",
      "3\n",
      "4\n",
      "5\n",
      "6\n",
      "7\n",
      "8\n",
      "9\n",
      "10\n"
     ]
    }
   ],
   "source": [
    "# let's start with for loops \n",
    "# your regular for loop\n",
    "\n",
    "# range (start, stop(exclusive) , step)\n",
    "\n",
    "for i in range(0,11,1):\n",
    "\n",
    "    print(i)"
   ]
  },
  {
   "cell_type": "code",
   "execution_count": 54,
   "metadata": {},
   "outputs": [
    {
     "name": "stdout",
     "output_type": "stream",
     "text": [
      "Index 0: apple\n",
      "Index 1: banana\n",
      "Index 2: cherry\n"
     ]
    }
   ],
   "source": [
    "fruits = [\"apple\", \"banana\", \"cherry\"]\n",
    "for index, fruit in enumerate(fruits):\n",
    "    print(f\"Index {index}: {fruit}\")"
   ]
  },
  {
   "cell_type": "code",
   "execution_count": 55,
   "metadata": {},
   "outputs": [
    {
     "name": "stdout",
     "output_type": "stream",
     "text": [
      "0\n",
      "1\n",
      "2\n",
      "3\n",
      "4\n",
      "5\n",
      "6\n",
      "7\n",
      "8\n",
      "9\n",
      "10\n"
     ]
    }
   ],
   "source": [
    "# while loop \n",
    "\n",
    "i = 0\n",
    "\n",
    "while i <=10:\n",
    "\n",
    "    print(i)\n",
    "    i+=1"
   ]
  },
  {
   "cell_type": "markdown",
   "metadata": {},
   "source": [
    "# Python Lists\n",
    "\n",
    "Lists are one of the most versatile and commonly used data structures in Python. Here's a breakdown of their key features:\n",
    "\n",
    "| **Feature**       | **Description**                                                                 |\n",
    "|--------------------|---------------------------------------------------------------------------------|\n",
    "| **Mutable**        | Lists are mutable, meaning you can modify, add, or remove elements after creation. |\n",
    "| **Ordered**        | Lists maintain the order of elements. Elements are indexed (starting from 0), so you can access them by their index. |\n",
    "| **Heterogeneous**  | Lists can contain elements of different data types, such as strings, numbers, or even other lists. |\n",
    "| **Dynamic**        | Lists can grow or shrink dynamically as elements are added or removed.          |\n",
    "| **Length**         | Use the `len()` function to determine the number of elements in a list.         |\n",
    "| **Membership**     | Check if an element exists in a list using the `in` keyword.                    |\n",
    "| **Slicing**        | Lists support slicing, allowing you to extract a portion of the list using an index range. |\n",
    "| **Concatenation**  | Lists can be concatenated using the `+` operator, which combines two lists into a new list. |\n",
    "\n",
    "---\n",
    "\n",
    "### **Example Code**:\n",
    "```python\n",
    "# Example of a list\n",
    "my_list = [1, \"hello\", 3.14, [1, 2, 3]]\n",
    "\n",
    "# Accessing elements\n",
    "print(my_list[1])  # Output: \"hello\"\n",
    "\n",
    "# Modifying elements\n",
    "my_list[0] = 100\n",
    "\n",
    "# Slicing\n",
    "print(my_list[1:3])  # Output: [\"hello\", 3.14]\n",
    "\n",
    "# Concatenation\n",
    "new_list = my_list + [True, False]\n",
    "print(new_list)  # Output: [100, \"hello\", 3.14, [1, 2, 3], True, False]"
   ]
  },
  {
   "cell_type": "code",
   "execution_count": 22,
   "metadata": {},
   "outputs": [
    {
     "name": "stdout",
     "output_type": "stream",
     "text": [
      "apple\n",
      "orange\n"
     ]
    }
   ],
   "source": [
    "# Creating a list\n",
    "fruits = ['apple', 'banana', 'orange', 'grape']\n",
    "\n",
    "# Accessing elements in a list\n",
    "print(fruits[0])  # Output: 'apple'\n",
    "print(fruits[2])  # Output: 'orange'"
   ]
  },
  {
   "cell_type": "code",
   "execution_count": 23,
   "metadata": {},
   "outputs": [
    {
     "name": "stdout",
     "output_type": "stream",
     "text": [
      "['apple', 'pineapple', 'orange', 'grape']\n"
     ]
    }
   ],
   "source": [
    "# Modifying elements in a list\n",
    "fruits[1] = 'pineapple'\n",
    "print(fruits)  # Output: ['apple', 'pineapple', 'orange', 'grape']"
   ]
  },
  {
   "cell_type": "code",
   "execution_count": 24,
   "metadata": {},
   "outputs": [
    {
     "name": "stdout",
     "output_type": "stream",
     "text": [
      "['apple', 'pineapple', 'orange', 'grape', 'mango']\n"
     ]
    }
   ],
   "source": [
    "# Appending elements to a list\n",
    "fruits.append('mango')\n",
    "print(fruits)  # Output: ['apple', 'pineapple', 'orange', 'grape', 'mango']"
   ]
  },
  {
   "cell_type": "code",
   "execution_count": 25,
   "metadata": {},
   "outputs": [
    {
     "name": "stdout",
     "output_type": "stream",
     "text": [
      "['apple', 'pineapple', 'grape', 'mango']\n"
     ]
    }
   ],
   "source": [
    "# Removing elements from a list\n",
    "fruits.remove('orange')\n",
    "print(fruits)  # Output: ['apple', 'pineapple', 'grape', 'mango']"
   ]
  },
  {
   "cell_type": "code",
   "execution_count": 26,
   "metadata": {},
   "outputs": [
    {
     "name": "stdout",
     "output_type": "stream",
     "text": [
      "4\n",
      "False\n"
     ]
    }
   ],
   "source": [
    "# Length of a list\n",
    "print(len(fruits))  # Output: 4\n",
    "\n",
    "# Checking if an element exists in a list\n",
    "print('banana' in fruits)  # Output: False"
   ]
  },
  {
   "cell_type": "code",
   "execution_count": 27,
   "metadata": {},
   "outputs": [
    {
     "name": "stdout",
     "output_type": "stream",
     "text": [
      "['apple', 'pineapple', 'grape', 'mango', 1, 2, 3]\n"
     ]
    }
   ],
   "source": [
    "# Concatenating lists\n",
    "numbers = [1, 2, 3]\n",
    "combined_list = fruits + numbers\n",
    "print(combined_list)  # Output: ['apple', 'pineapple', 'grape', 'mango', 1, 2, 3]"
   ]
  },
  {
   "cell_type": "markdown",
   "metadata": {},
   "source": [
    "## Iterating over a list using loops !🔁"
   ]
  },
  {
   "cell_type": "code",
   "execution_count": 51,
   "metadata": {},
   "outputs": [
    {
     "name": "stdout",
     "output_type": "stream",
     "text": [
      "apple\n",
      "pineapple\n",
      "grape\n",
      "mango\n",
      "1\n",
      "2\n",
      "3\n"
     ]
    }
   ],
   "source": [
    "# with this syntax i become a variable that holds the 1st element\n",
    "# of the list and then it changes every loop to the next element\n",
    "\n",
    "for i in combined_list:\n",
    "    print(i)"
   ]
  },
  {
   "cell_type": "markdown",
   "metadata": {},
   "source": [
    "## List Comprehension (One-Liner)\n",
    "### ***This creates a temporary list holding the values of the other list but it's not the most efficient way to iterate***"
   ]
  },
  {
   "cell_type": "code",
   "execution_count": 57,
   "metadata": {},
   "outputs": [
    {
     "name": "stdout",
     "output_type": "stream",
     "text": [
      "['apple', 'banana', 'cherry']\n"
     ]
    }
   ],
   "source": [
    "one_line_list = [i for i in fruits]\n",
    "\n",
    "print(one_line_list)"
   ]
  },
  {
   "cell_type": "markdown",
   "metadata": {},
   "source": [
    "## Slicing a List in Python 🐍"
   ]
  },
  {
   "cell_type": "markdown",
   "metadata": {},
   "source": [
    "# List Slicing in Python\n",
    "\n",
    "List slicing is a powerful feature in Python that allows you to extract specific portions of a list. Here's a quick reference for slicing syntax:\n",
    "\n",
    "| **Syntax**            | **Description**                          |\n",
    "|-----------------------|------------------------------------------|\n",
    "| `list[:]`             | Extract all elements.                    |\n",
    "| `list[Low:]`          | Extract from `Low` to the end.           |\n",
    "| `list[:High]`         | Extract from the beginning to `High`.    |\n",
    "| `list[Low:High]`      | Extract from `Low` to `High`.            |\n",
    "| `list[::Step]`        | Extract all elements with a step size.   |\n",
    "| `list[Low::Step]`     | Extract from `Low` to the end with a step size. |\n",
    "| `list[:High:Step]`    | Extract from the beginning to `High` with a step size. |\n",
    "| `list[Low:High:Step]` | Extract from `Low` to `High` with a step size. |\n",
    "\n",
    "---\n",
    "\n",
    "### **Example Code**:\n",
    "```python\n",
    "# Example list\n",
    "my_list = [0, 1, 2, 3, 4, 5, 6, 7, 8, 9]\n",
    "\n",
    "# Slicing examples\n",
    "print(my_list[:])       # Output: [0, 1, 2, 3, 4, 5, 6, 7, 8, 9]\n",
    "print(my_list[2:])      # Output: [2, 3, 4, 5, 6, 7, 8, 9]\n",
    "print(my_list[:5])      # Output: [0, 1, 2, 3, 4]\n",
    "print(my_list[2:7])     # Output: [2, 3, 4, 5, 6]\n",
    "print(my_list[::2])     # Output: [0, 2, 4, 6, 8]\n",
    "print(my_list[1::2])    # Output: [1, 3, 5, 7, 9]\n",
    "print(my_list[:6:2])    # Output: [0, 2, 4]\n",
    "print(my_list[1:8:3])   # Output: [1, 4, 7]"
   ]
  },
  {
   "cell_type": "code",
   "execution_count": 29,
   "metadata": {},
   "outputs": [
    {
     "name": "stdout",
     "output_type": "stream",
     "text": [
      "!dlroW ,olleH\n"
     ]
    }
   ],
   "source": [
    "# Reverse a sequence using slicing\n",
    "my_string = \"Hello, World!\"\n",
    "reversed_string = my_string[::-1]\n",
    "print(reversed_string)  # Output: \"!dlroW ,olleH\""
   ]
  },
  {
   "cell_type": "markdown",
   "metadata": {},
   "source": [
    "# 🌀 Tuples in Python\n",
    "\n",
    "Tuples are an essential data structure in Python, providing an immutable and ordered collection of elements.\n",
    "\n",
    "---\n",
    "\n",
    "## ✅ Properties of Tuples\n",
    "\n",
    "| **Property**      | **Description** |\n",
    "|------------------|----------------------------------------------------------|\n",
    "| **Immutable 🔒**   | Tuples **cannot** be modified after creation (no `append()` or `remove()`). |\n",
    "| **Ordered 📌**   | Elements maintain their order and can be accessed via **indexing**. |\n",
    "| **Heterogeneous 🎭** | Tuples can store **different data types** (e.g., integers, strings, floats). |\n",
    "| **Fixed Length 📏** | Use `len()` to determine the number of elements in a tuple. |\n",
    "| **Membership 🔍** | Use `in` to check if an element exists in a tuple. |\n",
    "| **Slicing ✂️**  | Supports slicing to extract specific portions. |\n",
    "| **Concatenation ➕** | Use `+` to combine two tuples into a new one. |\n",
    "\n",
    "---\n",
    "\n",
    "## 🔹 Tuple Operations\n",
    "\n",
    "### **1️⃣ Indexing**\n",
    "Tuples support zero-based indexing just like lists.\n",
    "```python\n",
    "my_tuple = (\"apple\", \"banana\", \"cherry\")\n",
    "print(my_tuple[1])  # Output: banana\n"
   ]
  },
  {
   "cell_type": "markdown",
   "metadata": {},
   "source": [
    "### ***2️⃣ Length of a Tuple***\n",
    "#### Use len() to find the number of elements."
   ]
  },
  {
   "cell_type": "code",
   "execution_count": 30,
   "metadata": {},
   "outputs": [
    {
     "name": "stdout",
     "output_type": "stream",
     "text": [
      "3\n"
     ]
    }
   ],
   "source": [
    "my_tuple = (10, \"hello\", 3.14)\n",
    "print(len(my_tuple))  # Output: 3"
   ]
  },
  {
   "cell_type": "markdown",
   "metadata": {},
   "source": [
    "### ***3️⃣ Membership Check***\n",
    "#### Use in to check if an element exists."
   ]
  },
  {
   "cell_type": "code",
   "execution_count": 31,
   "metadata": {},
   "outputs": [
    {
     "name": "stdout",
     "output_type": "stream",
     "text": [
      "True\n"
     ]
    }
   ],
   "source": [
    "my_tuple = (1, 2, 3, 4, 5)\n",
    "print(3 in my_tuple)  # Output: True"
   ]
  },
  {
   "cell_type": "markdown",
   "metadata": {},
   "source": [
    "## We can use the same slicing for the Tuple as we did with the list"
   ]
  },
  {
   "cell_type": "code",
   "execution_count": 32,
   "metadata": {},
   "outputs": [
    {
     "name": "stdout",
     "output_type": "stream",
     "text": [
      "(1, 2, 3)\n",
      "(0, 2, 4)\n"
     ]
    }
   ],
   "source": [
    "my_tuple = (0, 1, 2, 3, 4, 5)\n",
    "print(my_tuple[1:4])  # Output: (1, 2, 3)\n",
    "print(my_tuple[::2])  # Output: (0, 2, 4)"
   ]
  },
  {
   "cell_type": "markdown",
   "metadata": {},
   "source": [
    "# Same for Concatenation"
   ]
  },
  {
   "cell_type": "code",
   "execution_count": 33,
   "metadata": {},
   "outputs": [
    {
     "name": "stdout",
     "output_type": "stream",
     "text": [
      "(1, 2, 3, 4, 5, 6)\n"
     ]
    }
   ],
   "source": [
    "t1 = (1, 2, 3)\n",
    "t2 = (4, 5, 6)\n",
    "print(t1 + t2)  # Output: (1, 2, 3, 4, 5, 6)"
   ]
  },
  {
   "cell_type": "markdown",
   "metadata": {},
   "source": [
    "## ⚠️ Tuples vs Lists Comparison\n",
    "\n",
    "| **Feature**       | **Tuple (`tuple`)** | **List (`list`)** |\n",
    "|------------------|----------------|--------------|\n",
    "| **Mutability**   | ❌ Immutable (cannot be changed) | ✅ Mutable (can be modified) |\n",
    "| **Performance**  | ✅ Faster (due to immutability) | ❌ Slower (allows modifications) |\n",
    "| **Methods**      | ❌ Limited (`count()`, `index()`) | ✅ More (`append()`, `remove()`, `sort()`, etc.) |\n",
    "| **Memory Usage** | ✅ Less (optimized storage) | ❌ More (extra overhead) |\n"
   ]
  },
  {
   "cell_type": "markdown",
   "metadata": {},
   "source": [
    "# 🔥 Sets in Python\n",
    "\n",
    "Sets are **unordered** collections of **unique** elements, providing efficient operations for membership testing and set operations.\n",
    "\n",
    "---\n",
    "\n",
    "## ✅ Properties of Sets\n",
    "\n",
    "| **Property**      | **Description** |\n",
    "|------------------|----------------------------------------------------------|\n",
    "| **Unordered 🔀**  | Sets do not maintain any specific order. |\n",
    "| **Mutable 🔧**   | You can add or remove elements after creation. |\n",
    "| **Unique Elements 🛑** | Sets only store **unique** elements; duplicates are ignored. |\n",
    "| **Membership 🔍** | Use `in` to check if an element exists in a set. |\n",
    "| **Length 📏**    | Use `len(set)` to get the number of elements. |\n",
    "| **Set Operations 🏗️** | Supports `union()`, `intersection()`, and `difference()` for set operations. |\n",
    "\n"
   ]
  },
  {
   "cell_type": "code",
   "execution_count": 35,
   "metadata": {},
   "outputs": [
    {
     "name": "stdout",
     "output_type": "stream",
     "text": [
      "{'grape', 'orange', 'banana', 'mango', 'apple'}\n"
     ]
    }
   ],
   "source": [
    "# Creating a set\n",
    "fruits = {'apple', 'banana', 'orange', 'grape'}\n",
    "\n",
    "# Adding elements to a set\n",
    "fruits.add('mango')\n",
    "print(fruits)  # Output: {'apple', 'banana', 'orange', 'grape', 'mango'}"
   ]
  },
  {
   "cell_type": "code",
   "execution_count": 36,
   "metadata": {},
   "outputs": [
    {
     "name": "stdout",
     "output_type": "stream",
     "text": [
      "{'grape', 'banana', 'mango', 'apple'}\n",
      "4\n"
     ]
    }
   ],
   "source": [
    "# Removing elements from a set\n",
    "fruits.remove('orange')\n",
    "print(fruits)  # Output: {'apple', 'banana', 'grape', 'mango'}\n",
    "\n",
    "# Length of a set\n",
    "print(len(fruits))  # Output: 4"
   ]
  },
  {
   "cell_type": "code",
   "execution_count": 37,
   "metadata": {},
   "outputs": [
    {
     "name": "stdout",
     "output_type": "stream",
     "text": [
      "True\n",
      "{1, 2, 3, 4, 5, 6, 7, 8}\n",
      "{4, 5}\n",
      "{1, 2, 3}\n",
      "set()\n"
     ]
    }
   ],
   "source": [
    "# Checking if an element exists in a set\n",
    "print('banana' in fruits)  # Output: True\n",
    "\n",
    "# Set operations\n",
    "set1 = {1, 2, 3, 4, 5}\n",
    "set2 = {4, 5, 6, 7, 8}\n",
    "\n",
    "# Union of two sets\n",
    "union = set1.union(set2)\n",
    "print(union)  # Output: {1, 2, 3, 4, 5, 6, 7, 8}\n",
    "\n",
    "# Intersection of two sets\n",
    "intersection = set1.intersection(set2)\n",
    "print(intersection)  # Output: {4, 5}\n",
    "\n",
    "# Difference between two sets\n",
    "difference = set1.difference(set2)\n",
    "print(difference)  # Output: {1, 2, 3}\n",
    "\n",
    "# Removing all elements from a set\n",
    "fruits.clear()\n",
    "print(fruits)  # Output: set()"
   ]
  },
  {
   "cell_type": "markdown",
   "metadata": {},
   "source": [
    "# 📖 Dictionaries in Python\n",
    "\n",
    "Dictionaries store **key-value pairs**, providing a fast and flexible way to manage structured data.\n",
    "\n",
    "---\n",
    "\n",
    "## ✅ Properties of Dictionaries\n",
    "\n",
    "| **Property**          | **Description** |\n",
    "|----------------------|-----------------------------------------------------------|\n",
    "| **Key-Value Pairs 🔑** | Stores data as unique **keys** mapped to **values**. |\n",
    "| **Mutable 🔧**        | Can be modified—keys and values can be added, updated, or removed. |\n",
    "| **Dynamic 📈📉**      | Can grow or shrink as needed by adding or removing pairs. |\n",
    "| **Accessing Values 📌** | Use `dict[key]` to retrieve a value associated with a key. |\n",
    "| **Length 📏**        | Use `len(dict)` to find the number of key-value pairs. |\n",
    "| **Key Existence 🔍** | Use `key in dict` to check if a key exists. |\n",
    "| **Iteration 🔄**     | Supports iteration over keys, values, or key-value pairs using `keys()`, `values()`, and `items()`. |\n",
    "\n"
   ]
  },
  {
   "cell_type": "code",
   "execution_count": 38,
   "metadata": {},
   "outputs": [
    {
     "name": "stdout",
     "output_type": "stream",
     "text": [
      "John Doe\n",
      "20\n"
     ]
    }
   ],
   "source": [
    "# Creating a dictionary\n",
    "student = {\n",
    "    'name': 'John Doe',\n",
    "    'age': 20,\n",
    "    'major': 'Computer Science',\n",
    "    'university': 'ABC University'\n",
    "}\n",
    "\n",
    "# Accessing values in a dictionary\n",
    "print(student['name'])  # Output: 'John Doe'\n",
    "print(student['age'])  # Output: 20"
   ]
  },
  {
   "cell_type": "code",
   "execution_count": 39,
   "metadata": {},
   "outputs": [
    {
     "name": "stdout",
     "output_type": "stream",
     "text": [
      "{'name': 'John Doe', 'age': 20, 'major': 'Electrical Engineering', 'university': 'ABC University'}\n"
     ]
    }
   ],
   "source": [
    "# Modifying values in a dictionary\n",
    "student['major'] = 'Electrical Engineering'\n",
    "print(student)  # Output: {'name': 'John Doe', 'age': 20, 'major': 'Electrical Engineering', 'university': 'ABC University'}"
   ]
  },
  {
   "cell_type": "code",
   "execution_count": 40,
   "metadata": {},
   "outputs": [
    {
     "name": "stdout",
     "output_type": "stream",
     "text": [
      "{'name': 'John Doe', 'age': 20, 'major': 'Electrical Engineering', 'university': 'ABC University', 'gpa': 3.8}\n",
      "5\n"
     ]
    }
   ],
   "source": [
    "# Adding new key-value pairs to a dictionary\n",
    "student['gpa'] = 3.8\n",
    "print(student)  # Output: {'name': 'John Doe', 'age': 20, 'major': 'Electrical Engineering', 'university': 'ABC University', 'gpa': 3.8}\n",
    "\n",
    "# Length of a dictionary (number of key-value pairs)\n",
    "print(len(student))  # Output: 5"
   ]
  },
  {
   "cell_type": "code",
   "execution_count": 41,
   "metadata": {},
   "outputs": [
    {
     "name": "stdout",
     "output_type": "stream",
     "text": [
      "{'name': 'John Doe', 'major': 'Electrical Engineering', 'university': 'ABC University', 'gpa': 3.8}\n"
     ]
    }
   ],
   "source": [
    "# Removing a key-value pair from a dictionary\n",
    "del student['age']\n",
    "print(student)  # Output: {'name': 'John Doe', 'major': 'Electrical Engineering', 'university': 'ABC University', 'gpa': 3.8}"
   ]
  },
  {
   "cell_type": "code",
   "execution_count": 42,
   "metadata": {},
   "outputs": [
    {
     "name": "stdout",
     "output_type": "stream",
     "text": [
      "name\n",
      "major\n",
      "university\n",
      "gpa\n",
      "----------------------------------------------------------------------\n",
      "John Doe\n",
      "Electrical Engineering\n",
      "ABC University\n",
      "3.8\n",
      "----------------------------------------------------------------------\n",
      "name John Doe\n",
      "major Electrical Engineering\n",
      "university ABC University\n",
      "gpa 3.8\n"
     ]
    }
   ],
   "source": [
    "# Iterating over keys, values, and key-value pairs in a dictionary\n",
    "for key in student:\n",
    "    print(key)  # Output: name, major, university, gpa\n",
    "print(\"-\"*70)\n",
    "\n",
    "for value in student.values():\n",
    "    print(value)  # Output: John Doe, Electrical Engineering, ABC University, 3.8\n",
    "print(\"-\"*70)\n",
    "\n",
    "for key, value in student.items():\n",
    "    print(key, value)  # Output: name John Doe, major Electrical Engineering, university ABC University, gpa 3.8"
   ]
  },
  {
   "cell_type": "markdown",
   "metadata": {},
   "source": [
    "## Seek a Peek 👀\n",
    "### Note ! the upcoming cell is totally optional if u didn't get it u can skip it and we will explain it later"
   ]
  },
  {
   "cell_type": "code",
   "execution_count": 45,
   "metadata": {},
   "outputs": [
    {
     "data": {
      "text/html": [
       "<div>\n",
       "<style scoped>\n",
       "    .dataframe tbody tr th:only-of-type {\n",
       "        vertical-align: middle;\n",
       "    }\n",
       "\n",
       "    .dataframe tbody tr th {\n",
       "        vertical-align: top;\n",
       "    }\n",
       "\n",
       "    .dataframe thead th {\n",
       "        text-align: right;\n",
       "    }\n",
       "</style>\n",
       "<table border=\"1\" class=\"dataframe\">\n",
       "  <thead>\n",
       "    <tr style=\"text-align: right;\">\n",
       "      <th></th>\n",
       "      <th>Name</th>\n",
       "      <th>Age</th>\n",
       "      <th>City</th>\n",
       "    </tr>\n",
       "  </thead>\n",
       "  <tbody>\n",
       "    <tr>\n",
       "      <th>0</th>\n",
       "      <td>John</td>\n",
       "      <td>25</td>\n",
       "      <td>New York</td>\n",
       "    </tr>\n",
       "    <tr>\n",
       "      <th>1</th>\n",
       "      <td>Alice</td>\n",
       "      <td>28</td>\n",
       "      <td>London</td>\n",
       "    </tr>\n",
       "    <tr>\n",
       "      <th>2</th>\n",
       "      <td>Bob</td>\n",
       "      <td>32</td>\n",
       "      <td>Paris</td>\n",
       "    </tr>\n",
       "  </tbody>\n",
       "</table>\n",
       "</div>"
      ],
      "text/plain": [
       "    Name  Age      City\n",
       "0   John   25  New York\n",
       "1  Alice   28    London\n",
       "2    Bob   32     Paris"
      ]
     },
     "metadata": {},
     "output_type": "display_data"
    }
   ],
   "source": [
    "# we can use dictionaries to make tables like the one in Excel \n",
    "# using a library called pandas 🐼 and a data structure called pandas dataframe 🖼️ \n",
    "import pandas as pd\n",
    "\n",
    "# Creating a dictionary representing a table\n",
    "data = {\n",
    "    'Name': ['John', 'Alice', 'Bob'],\n",
    "    'Age': [25, 28, 32],\n",
    "    'City': ['New York', 'London', 'Paris']\n",
    "}\n",
    "\n",
    "# Converting the dictionary to a pandas DataFrame\n",
    "df = pd.DataFrame(data)\n",
    "\n",
    "# Printing the DataFrame\n",
    "display(df)"
   ]
  },
  {
   "cell_type": "markdown",
   "metadata": {},
   "source": [
    "# **Python Operators**\n",
    "\n",
    "## **Basic Arithmetic Operations**\n",
    "\n",
    "| **Operator** | **Description**      | **Example**   |\n",
    "|--------------|----------------------|---------------|\n",
    "| `+`          | Addition             | `x + y`       |\n",
    "| `-`          | Subtraction          | `x - y`       |\n",
    "| `*`          | Multiplication       | `x * y`       |\n",
    "| `/`          | Division             | `x / y`       |\n",
    "| `%`          | Modulus              | `x % y`       |\n",
    "| `**`         | Exponentiation       | `x ** y`      |\n",
    "| `//`         | Floor Division       | `x // y`      |"
   ]
  },
  {
   "cell_type": "markdown",
   "metadata": {},
   "source": [
    "---\n",
    "## **Logical Operators**\n",
    "\n",
    "| **Operator** | **Description**                                      | **Example**                     |\n",
    "|--------------|------------------------------------------------------|---------------------------------|\n",
    "| `and`        | Returns `True` if both statements are true           | `x < 5 and x < 10`              |\n",
    "| `or`         | Returns `True` if at least one statement is true     | `x < 5 or x < 4`                |\n",
    "| `not`        | Reverses the result; returns `False` if true         | `not(x < 5 and x < 10)`         |\n",
    "\n",
    "---"
   ]
  },
  {
   "cell_type": "markdown",
   "metadata": {},
   "source": [
    "## **Identity Operators**\n",
    "\n",
    "| **Operator** | **Description**                                      | **Example**                     |\n",
    "|--------------|------------------------------------------------------|---------------------------------|\n",
    "| `is`         | Returns `True` if both variables are the same object | `x is y`                        |\n",
    "| `is not`     | Returns `True` if both variables are not the same object | `x is not y`                |\n",
    "\n",
    "### **Example**\n",
    "```python\n",
    "x = [\"apple\", \"banana\"]\n",
    "y = [\"apple\", \"banana\"]\n",
    "z = x\n",
    "\n",
    "print(x is z)   # True, because z is the same object as x\n",
    "print(x is y)   # False, because x and y are different objects\n",
    "print(x == y)   # True, because x and y have the same content"
   ]
  },
  {
   "cell_type": "markdown",
   "metadata": {},
   "source": [
    "## **Bitwise Operators**\n",
    "\n",
    "| **Operator** | **Name**                | **Description**                                                                 | **Example**   |\n",
    "|--------------|-------------------------|---------------------------------------------------------------------------------|---------------|\n",
    "| `&`          | AND                     | Sets each bit to `1` if both bits are `1`                                       | `x & y`       |\n",
    "| `\\|`         | OR                      | Sets each bit to `1` if at least one of the bits is `1`                         | `x \\| y`      |\n",
    "| `^`          | XOR                     | Sets each bit to `1` if only one of the bits is `1`                             | `x ^ y`       |\n",
    "| `~`          | NOT                     | Inverts all the bits                                                            | `~x`          |\n",
    "| `<<`         | Zero Fill Left Shift    | Shifts left by pushing zeros in from the right, letting the leftmost bits fall off | `x << 2`     |\n",
    "| `>>`         | Signed Right Shift      | Shifts right by pushing copies of the leftmost bit in from the left, letting the rightmost bits fall off | `x >> 2` |\n",
    "\n",
    "---\n",
    "\n",
    "### **Key Notes**\n",
    "- **Arithmetic Operators**: Perform basic mathematical operations.\n",
    "- **Logical Operators**: Used to combine conditional statements.\n",
    "- **Identity Operators**: Compare object identity (memory address), not just values.\n",
    "- **Bitwise Operators**: Work on binary representations of integers."
   ]
  },
  {
   "cell_type": "markdown",
   "metadata": {},
   "source": [
    "# ***Functions*** 🚀\n",
    "\n",
    "## A function is a block of code that performs a specific task whenever u call it\n"
   ]
  },
  {
   "cell_type": "code",
   "execution_count": 58,
   "metadata": {},
   "outputs": [
    {
     "name": "stdout",
     "output_type": "stream",
     "text": [
      "Emil Refsnes\n",
      "Tobias Refsnes\n",
      "Linus Refsnes\n"
     ]
    }
   ],
   "source": [
    "# def name (Parameters)\n",
    "\n",
    "def full_name(fname): # -> this called a function definition\n",
    "  print(fname + \" Refsnes\")\n",
    "\n",
    "full_name(\"Emil\") # this is called a function call \n",
    "full_name(\"Tobias\")\n",
    "full_name(\"Linus\")"
   ]
  },
  {
   "cell_type": "code",
   "execution_count": 59,
   "metadata": {},
   "outputs": [
    {
     "name": "stdout",
     "output_type": "stream",
     "text": [
      "Emil Refsnes\n",
      "Tobias Refsnes\n",
      "Linus Max\n"
     ]
    }
   ],
   "source": [
    "# a function with a default (optional) parameters\n",
    "def name_function(fname, last_name = \" Refsnes\"):\n",
    "  print(fname + last_name)\n",
    "\n",
    "name_function(\"Emil\")\n",
    "name_function(\"Tobias\")\n",
    "name_function(\"Linus\", \" Max\")"
   ]
  },
  {
   "cell_type": "code",
   "execution_count": 60,
   "metadata": {},
   "outputs": [
    {
     "name": "stdout",
     "output_type": "stream",
     "text": [
      "The youngest child is Linus\n"
     ]
    }
   ],
   "source": [
    "# If the number of arguments is unknown, add a * before the parameter name\n",
    "def my_function(*kids):\n",
    "  print(\"The youngest child is \" + kids[2])\n",
    "\n",
    "my_function(\"Emil\", \"Tobias\", \"Linus\", \"hossam\")"
   ]
  },
  {
   "cell_type": "markdown",
   "metadata": {},
   "source": [
    "# Lambda Function\n",
    "\n",
    "### A lambda function in Python is an anonymous function (a function without a name) that is defined using the lambda keyword. \n",
    "### it is typically used for short, simple operations where defining a full function with def would be unnecessary."
   ]
  },
  {
   "cell_type": "code",
   "execution_count": 61,
   "metadata": {},
   "outputs": [
    {
     "name": "stdout",
     "output_type": "stream",
     "text": [
      "8\n"
     ]
    }
   ],
   "source": [
    "# lambda arguments: expression\n",
    "\n",
    "add = lambda x, y: x + y\n",
    "\n",
    "print(add(3, 5))  # Output: 8\n",
    "\n",
    "# this is equivalent to : \n",
    "\n",
    "def add(x, y):\n",
    "    return x + y"
   ]
  },
  {
   "cell_type": "code",
   "execution_count": 63,
   "metadata": {},
   "outputs": [
    {
     "name": "stdout",
     "output_type": "stream",
     "text": [
      "[('Bob', 20), ('Alice', 25), ('Charlie', 30)]\n"
     ]
    }
   ],
   "source": [
    "# hard example \n",
    "people = [(\"Alice\", 25), (\"Bob\", 20), (\"Charlie\", 30)]\n",
    "sorted_people = sorted(people, key=lambda person: person[1])  # Sort by age\n",
    "print(sorted_people)"
   ]
  },
  {
   "cell_type": "markdown",
   "metadata": {},
   "source": [
    "# Exception Handling in Python\n",
    "\n",
    "### What is Exception Handling?\n",
    "### In Python, exceptions are errors that occur during execution. Exception handling allows us to manage errors gracefully \n",
    "### without breaking the program."
   ]
  },
  {
   "cell_type": "code",
   "execution_count": 64,
   "metadata": {},
   "outputs": [
    {
     "name": "stdout",
     "output_type": "stream",
     "text": [
      "Error: division by zero\n"
     ]
    }
   ],
   "source": [
    "# Basic Try-Except Example:\n",
    "try:\n",
    "    x = 10 / 0  # Division by zero error\n",
    "except ZeroDivisionError as e:\n",
    "    print(\"Error:\", e)"
   ]
  },
  {
   "cell_type": "code",
   "execution_count": 65,
   "metadata": {},
   "outputs": [
    {
     "name": "stdout",
     "output_type": "stream",
     "text": [
      "ValueError: invalid literal for int() with base 10: 'abc'\n"
     ]
    }
   ],
   "source": [
    "# Handling Multiple Exceptions:\n",
    "try:\n",
    "    num = int(\"abc\")  # Invalid conversion\n",
    "except ValueError as e:\n",
    "    print(\"ValueError:\", e)\n",
    "except TypeError as e:\n",
    "    print(\"TypeError:\", e)\n"
   ]
  },
  {
   "cell_type": "code",
   "execution_count": 67,
   "metadata": {},
   "outputs": [],
   "source": [
    "# Using 'finally' for Cleanup:\n",
    "try:\n",
    "    file = open(\"sample.txt\", \"w\")\n",
    "    file.write(\"Hello, World!\")\n",
    "except Exception as e:\n",
    "    print(\"An error occurred:\", e)\n",
    "finally:\n",
    "    file.close()  # Ensures the file is closed even if an error occurs"
   ]
  },
  {
   "cell_type": "markdown",
   "metadata": {},
   "source": [
    "# We finally made it to the end ! thank u 🫡"
   ]
  },
  {
   "cell_type": "markdown",
   "metadata": {},
   "source": [
    "# additional Resources : \n",
    "- <a href=\"https://docs.python.org/3/tutorial/index.html\">Click Me☝️</a>\n",
    "- <a href=\"https://youtu.be/rfscVS0vtbw?si=yupmmSDbmeVSyNh4\">What about me?😗</a>\n",
    "- <a href=\"https://learnxinyminutes.com/python/\">are you really going to leave me?!🥺</a>"
   ]
  },
  {
   "cell_type": "markdown",
   "metadata": {},
   "source": [
    "![alt text](image.png)"
   ]
  }
 ],
 "metadata": {
  "kernelspec": {
   "display_name": "TensorFlow",
   "language": "python",
   "name": "python3"
  },
  "language_info": {
   "codemirror_mode": {
    "name": "ipython",
    "version": 3
   },
   "file_extension": ".py",
   "mimetype": "text/x-python",
   "name": "python",
   "nbconvert_exporter": "python",
   "pygments_lexer": "ipython3",
   "version": "3.8.18"
  }
 },
 "nbformat": 4,
 "nbformat_minor": 2
}
