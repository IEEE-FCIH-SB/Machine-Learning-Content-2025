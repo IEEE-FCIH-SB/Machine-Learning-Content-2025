{
  "cells": [
    {
      "cell_type": "markdown",
      "metadata": {},
      "source": [
        "<a href=\"https://colab.research.google.com/drive/1cT5RoR6Y5FdaYGCNQStkUO7AE1w5Kazf#scrollTo=rF7s0-mj9R-3\" target=\"_parent\"><img src=\"https://colab.research.google.com/assets/colab-badge.svg\" alt=\"Open In Colab\"/></a>"
      ]
    },
    {
      "cell_type": "code",
      "execution_count": null,
      "metadata": {
        "id": "HGUQh5kM9R-h"
      },
      "outputs": [],
      "source": [
        "#import numpy library (you will use it in the whole task)\n",
        "\n",
        "#write your answer here"
      ]
    },
    {
      "cell_type": "markdown",
      "metadata": {
        "id": "sodtWavb9R-u"
      },
      "source": [
        "## Vectors, Matrices, Arrays"
      ]
    },
    {
      "cell_type": "markdown",
      "metadata": {
        "id": "phAWXYIY9R-y"
      },
      "source": [
        "![image.png](https://i.ibb.co/9knGB0YS/Age-vs-Salary.png)"
      ]
    },
    {
      "cell_type": "code",
      "execution_count": null,
      "metadata": {
        "id": "-XVHpgxk9R-0"
      },
      "outputs": [],
      "source": [
        "#make these data points as numpy matrix named `data` (do it manually)\n",
        "\n",
        "#write your answer here"
      ]
    },
    {
      "cell_type": "code",
      "execution_count": null,
      "metadata": {
        "id": "Z4qSPF-x9R-1"
      },
      "outputs": [],
      "source": [
        "#print the second element in the third row in `data`\n",
        "\n",
        "#write your answer here"
      ]
    },
    {
      "cell_type": "code",
      "execution_count": null,
      "metadata": {
        "id": "rF7s0-mj9R-3"
      },
      "outputs": [],
      "source": [
        "#print the matrix `data` till second row (use slicing)\n",
        "\n",
        "#write your answer here"
      ]
    },
    {
      "cell_type": "code",
      "execution_count": null,
      "metadata": {
        "id": "cQ-hsnpQ9R-4"
      },
      "outputs": [],
      "source": [
        "'''\n",
        "describe the matrix using numpy functions\n",
        "i.e. print the shape and size and number of dimensions of the matrix\n",
        "'''\n",
        "\n",
        "#write your answer here"
      ]
    },
    {
      "cell_type": "code",
      "execution_count": null,
      "metadata": {
        "id": "ZTzdgqIv9R-6"
      },
      "outputs": [],
      "source": [
        "# multiply the salary by 1000 to get the actual salary using 2 different methods:\n",
        "\n",
        "#method 1: using vectroized functions\n",
        "\n",
        "'''\n",
        "\n",
        "write your answer here\n",
        "\n",
        "hint: it needs more than 1 line of code\n",
        "\n",
        "'''\n",
        "\n",
        "#method 2: without vectroized functions (the simple way)\n",
        "\n",
        "#write your answer here"
      ]
    },
    {
      "cell_type": "code",
      "execution_count": null,
      "metadata": {
        "id": "INT2ouNT9R-8"
      },
      "outputs": [],
      "source": [
        "\"\"\"\n",
        "- Find the maximum age and the minimum salary from the given data.\n",
        "- Use two different syntax styles: one for finding the maximum and another for the minimum.\n",
        "- Print both results using a single print statement.\n",
        "\n",
        "Expected Output:\n",
        "Max age: X\n",
        "Min salary: Y\n",
        "\"\"\"\n",
        "\n",
        "# Write your solution below:"
      ]
    },
    {
      "cell_type": "code",
      "execution_count": null,
      "metadata": {
        "id": "hWm4NXII9R--"
      },
      "outputs": [],
      "source": [
        "#print the mean and variance and standard deviation for each of the age and salary from the matrix\n",
        "#use numpy functions\n",
        "\n",
        "#write your answer here"
      ]
    },
    {
      "cell_type": "code",
      "execution_count": null,
      "metadata": {
        "id": "AgMlKUo-9R-_"
      },
      "outputs": [],
      "source": [
        "\"\"\"\n",
        "- The people in the dataset are planning to travel to Morocco.\n",
        "- Convert their salaries from EGP (Egyptian Pounds) to MAD (Moroccan Dirhams).\n",
        "- Use the conversion rate: 1 MAD = 5 EGP.\n",
        "- Store the converted salaries in a new NumPy array without modifying the original data.\n",
        "- Print your result\n",
        "\"\"\"\n",
        "\n",
        "# Write your solution below:\n"
      ]
    },
    {
      "cell_type": "markdown",
      "metadata": {
        "id": "CMuGLaBM9R_A"
      },
      "source": [
        "<b>This is the visulaization of your code see how the salaries vector shrinked!!</b>\n",
        "<br>\n",
        "<br>\n",
        "![image.png](https://i.ibb.co/nqj4L1Cx/Salary-comparison.png)"
      ]
    },
    {
      "cell_type": "code",
      "execution_count": null,
      "metadata": {
        "colab": {
          "base_uri": "https://localhost:8080/",
          "height": 53
        },
        "id": "byVm_nEJ9R_E",
        "outputId": "02da705c-bf96-40c4-a31a-625dcea9c5c0"
      },
      "outputs": [
        {
          "data": {
            "application/vnd.google.colaboratory.intrinsic+json": {
              "type": "string"
            },
            "text/plain": [
              "'\\n- Now you have age vs salary data from Egypt and Morocco.\\n- Compare the salary distributions between the two countries.\\n- To measure similarity, calculate the cosine similarity between the two salary vectors (using numpy only).\\n'"
            ]
          },
          "execution_count": 21,
          "metadata": {},
          "output_type": "execute_result"
        }
      ],
      "source": [
        "age_vs_salary_in_morocco = np.array([[20,8],\n",
        "                                     [30,18],\n",
        "                                     [40,55],\n",
        "                                     [50,65],\n",
        "                                     [60,75]])\n",
        "\n",
        "\"\"\"\n",
        "- Now you have age vs salary data from Egypt and Morocco.\n",
        "- Compare the salary distributions between the two countries.\n",
        "- To measure similarity, calculate the cosine similarity between the two salary vectors (using numpy only).\n",
        "\"\"\"\n",
        "\n",
        "# Write your answer here\n"
      ]
    },
    {
      "cell_type": "markdown",
      "metadata": {
        "id": "FNHoDm3-9R_F"
      },
      "source": [
        "![image.png](https://i.ibb.co/k28tfbg6/Egypt-vs-Morocco.png)\n",
        "<br>\n",
        "<br>\n",
        "<b>Q: Even though the salaries are in different currencies, their distributions remain very similar. If you used converted Egyptian salaries to MAD and computed cosine similarity again, the result stays the same. Why is that?\n",
        "</b>"
      ]
    },
    {
      "cell_type": "markdown",
      "metadata": {
        "id": "hY71HwjB9R_F"
      },
      "source": [
        "A:"
      ]
    },
    {
      "cell_type": "code",
      "execution_count": null,
      "metadata": {
        "id": "AdyA-yYC9R_G"
      },
      "outputs": [],
      "source": [
        "#create `data_flattened` variable that have the (data) matrix flattened\n",
        "\n",
        "data_flattened = #write your answer here\n",
        "\n",
        "\n",
        "#now make data_flattened the same shape as (data)\n",
        "\n",
        "#write your answer here"
      ]
    },
    {
      "cell_type": "code",
      "execution_count": null,
      "metadata": {
        "id": "5rXbtLQz9R_G"
      },
      "outputs": [],
      "source": [
        "\"\"\"\n",
        "- Reshape `data_flattened` so that each element appears in an individual row.\n",
        "- The final output should be a column vector where each element is in its own row.\n",
        "\n",
        "Expected Output:\n",
        "\n",
        "[e1],\n",
        "[e2],\n",
        ".\n",
        ".\n",
        ".\n",
        "[e9]\n",
        "\"\"\"\n",
        "\n",
        "#write your answer here"
      ]
    },
    {
      "cell_type": "code",
      "execution_count": null,
      "metadata": {
        "id": "e8vzJN9_9R_H"
      },
      "outputs": [],
      "source": [
        "n = np.array([[1, 2, 3, 4],\n",
        "              [5, 6, 7, 8],\n",
        "              [9, 10, 11, 12],\n",
        "              [13, 14, 15, 16]\n",
        "              ])\n",
        "\n",
        "#print the second diagonal above the main diagonal in (n)\n",
        "\n",
        "#write your answer here"
      ]
    },
    {
      "cell_type": "code",
      "execution_count": null,
      "metadata": {
        "id": "Hbn1hSDY9R_H"
      },
      "outputs": [],
      "source": [
        "'''\n",
        "- Create 2 matrices that can be multiplied by each other\n",
        "- The 2 matrices must does not have the same dimensions\n",
        "'''\n",
        "\n",
        "matrix1 = #write your answer here\n",
        "matrix2 = #write your answer here\n",
        "\n",
        "#multiply the 2 matrices by each other\n",
        "\n",
        "#write your answer here"
      ]
    },
    {
      "cell_type": "markdown",
      "metadata": {
        "id": "KucPd-LM9R_I"
      },
      "source": [
        "Q: if we used \"@\" operator between two 1-dimensional arrays (matricies) what will it do?\n",
        "<br>\n",
        "A:"
      ]
    },
    {
      "cell_type": "markdown",
      "metadata": {
        "id": "x8bctjso9R_I"
      },
      "source": [
        "## Randomization"
      ]
    },
    {
      "cell_type": "code",
      "execution_count": null,
      "metadata": {
        "id": "_hdlciUR9R_J"
      },
      "outputs": [],
      "source": [
        "np.random.seed(42)\n",
        "\n",
        "#draw 10 numbers between 0.0 and 1.0\n",
        "\n",
        "#write your answer here"
      ]
    },
    {
      "cell_type": "code",
      "execution_count": null,
      "metadata": {
        "id": "GyBxSbGH9R_J"
      },
      "outputs": [],
      "source": [
        "#draw 5 numbers between from a normal distribution with mean 1.0 and std of 2.0\n",
        "\n",
        "#write your answer here"
      ]
    },
    {
      "cell_type": "code",
      "execution_count": null,
      "metadata": {
        "id": "nGFvmbkX9R_K"
      },
      "outputs": [],
      "source": [
        "#draw 4 numbers greater than or equal to 10.0 and less than 50.0 and save it in x variable\n",
        "\n",
        "x = #write your answer here\n",
        "\n",
        "\n",
        "#print x\n",
        "\n",
        "#write your answer here\n",
        "\n",
        "\n",
        "#generate a random sample from x with size of 2\n",
        "\n",
        "#write your answer here\n",
        "\n",
        "\n",
        "#shuffle the elements in x\n",
        "\n",
        "#write your answer here"
      ]
    },
    {
      "cell_type": "code",
      "execution_count": null,
      "metadata": {
        "id": "QelXSRc59R_L"
      },
      "outputs": [],
      "source": [
        "'''\n",
        "- Generate a random matrix with 4 columns and 2 rows\n",
        "  from a uniform distribution between 0 and 1\n",
        "'''\n",
        "\n",
        "#write your answer here"
      ]
    },
    {
      "cell_type": "code",
      "execution_count": null,
      "metadata": {
        "id": "gBw4PFml9R_M"
      },
      "outputs": [],
      "source": [
        "#generate 3 random numbers from a standard normal distribution (mean=0, variance=1)\n",
        "\n",
        "#write your answer here"
      ]
    },
    {
      "cell_type": "code",
      "execution_count": null,
      "metadata": {
        "id": "kuTIW9s69R_M"
      },
      "outputs": [],
      "source": [
        "#generate 10 random integers between 100 and 200\n",
        "\n",
        "#write your answer here"
      ]
    },
    {
      "cell_type": "code",
      "execution_count": null,
      "metadata": {
        "id": "_1gBzFKo9R_N"
      },
      "outputs": [],
      "source": [
        "#create a numpy array of even numbers between 0 and 10 (use numpy function)\n",
        "\n",
        "#write your answer here"
      ]
    },
    {
      "cell_type": "code",
      "execution_count": null,
      "metadata": {
        "id": "IrdKYMxj9R_N"
      },
      "outputs": [],
      "source": [
        "#create a numpy array with 10 equally spaced values from 0 to 100 (100 is not included)\n",
        "\n",
        "#write your answer here"
      ]
    },
    {
      "cell_type": "markdown",
      "metadata": {
        "id": "8LKBY1Bu9R_O"
      },
      "source": [
        "## Vectroization"
      ]
    },
    {
      "cell_type": "code",
      "execution_count": null,
      "metadata": {
        "id": "6Dw2gr089R_O"
      },
      "outputs": [],
      "source": [
        "a = np.array([[ 0.0,  0.0,  0.0],\n",
        "              [10.0, 10.0, 10.0],\n",
        "              [20.0, 20.0, 20.0],\n",
        "              [30.0, 30.0, 30.0]])\n",
        "'''\n",
        "\n",
        "write code that multiply:\n",
        "-the first row by 2\n",
        "-the second row by 4\n",
        "-the third row by 6\n",
        "\n",
        "you will need to solve it with only 2 line of codes\n",
        "'''\n",
        "\n",
        "#write your aswer here"
      ]
    },
    {
      "cell_type": "code",
      "execution_count": null,
      "metadata": {
        "id": "r_-yLDsw9R_P"
      },
      "outputs": [],
      "source": [
        "a = np.array([[ 0.0,  0.0,  0.0],\n",
        "              [10.0, 10.0, 10.0]\n",
        "              ])\n",
        "b = np.array([1.0, 2.0, 3.0,4.0])\n",
        "a + b"
      ]
    },
    {
      "cell_type": "markdown",
      "metadata": {
        "id": "nOZTG3MM9R_P"
      },
      "source": [
        "Q: will this code work? and why?\n",
        "<br>\n",
        "A:"
      ]
    }
  ],
  "metadata": {
    "colab": {
      "provenance": [],
      "toc_visible": true
    },
    "kernelspec": {
      "display_name": "Python 3",
      "language": "python",
      "name": "python3"
    },
    "language_info": {
      "codemirror_mode": {
        "name": "ipython",
        "version": 3
      },
      "file_extension": ".py",
      "mimetype": "text/x-python",
      "name": "python",
      "nbconvert_exporter": "python",
      "pygments_lexer": "ipython3",
      "version": "3.11.0"
    }
  },
  "nbformat": 4,
  "nbformat_minor": 0
}
